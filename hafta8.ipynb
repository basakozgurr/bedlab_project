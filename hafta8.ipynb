{
  "nbformat": 4,
  "nbformat_minor": 0,
  "metadata": {
    "colab": {
      "provenance": [],
      "authorship_tag": "ABX9TyMAw/TFeoyRsBZ7ZUodeOOV",
      "include_colab_link": true
    },
    "kernelspec": {
      "name": "python3",
      "display_name": "Python 3"
    },
    "language_info": {
      "name": "python"
    }
  },
  "cells": [
    {
      "cell_type": "markdown",
      "metadata": {
        "id": "view-in-github",
        "colab_type": "text"
      },
      "source": [
        "<a href=\"https://colab.research.google.com/github/basakozgurr/bedlab_project/blob/main/hafta8.ipynb\" target=\"_parent\"><img src=\"https://colab.research.google.com/assets/colab-badge.svg\" alt=\"Open In Colab\"/></a>"
      ]
    },
    {
      "cell_type": "code",
      "source": [
        "from sklearn.datasets import load_sample_images\n",
        "import tensorflow as tf"
      ],
      "metadata": {
        "id": "4kFrE5XYu92C"
      },
      "execution_count": 5,
      "outputs": []
    },
    {
      "cell_type": "code",
      "source": [
        "images = load_sample_images()[\"images\"]\n",
        "images[0].shape"
      ],
      "metadata": {
        "colab": {
          "base_uri": "https://localhost:8080/"
        },
        "id": "Ysfh0GryvHmx",
        "outputId": "8fd97f13-a56a-4ed7-cb10-d70c1a2725fd"
      },
      "execution_count": 6,
      "outputs": [
        {
          "output_type": "execute_result",
          "data": {
            "text/plain": [
              "(427, 640, 3)"
            ]
          },
          "metadata": {},
          "execution_count": 6
        }
      ]
    },
    {
      "cell_type": "code",
      "source": [
        "images = tf.keras.layers.CenterCrop(height=80, width=120)(images)\n",
        "images = tf.keras.layers.Rescaling(scale=1/255)(images)\n",
        "\n",
        "\n",
        "images.shape"
      ],
      "metadata": {
        "colab": {
          "base_uri": "https://localhost:8080/"
        },
        "id": "XPgWH_qoyqTv",
        "outputId": "d7578e83-4ed8-4230-d0ca-b6f5a68460bb"
      },
      "execution_count": 7,
      "outputs": [
        {
          "output_type": "execute_result",
          "data": {
            "text/plain": [
              "TensorShape([2, 80, 120, 3])"
            ]
          },
          "metadata": {},
          "execution_count": 7
        }
      ]
    },
    {
      "cell_type": "code",
      "source": [
        "conv_layer = tf.keras.layers.Conv2D(filters=32, kernel_size=7)\n",
        "\n",
        "\n",
        "fmaps = conv_layer(images)\n",
        "\n",
        "\n",
        "fmaps.shape\n",
        "\n"
      ],
      "metadata": {
        "colab": {
          "base_uri": "https://localhost:8080/"
        },
        "id": "tqkED85hFDjO",
        "outputId": "c58e99c4-640e-4577-95f8-054ce0789ddc"
      },
      "execution_count": 9,
      "outputs": [
        {
          "output_type": "execute_result",
          "data": {
            "text/plain": [
              "TensorShape([2, 74, 114, 32])"
            ]
          },
          "metadata": {},
          "execution_count": 9
        }
      ]
    },
    {
      "cell_type": "code",
      "source": [
        "conv_layer = tf.keras.layers.Conv2D(filters=32, kernel_size=7,\n",
        "                                    padding = \"same\")\n",
        "\n",
        "\n",
        "fmaps = conv_layer(images)\n",
        "\n",
        "\n",
        "fmaps.shape"
      ],
      "metadata": {
        "colab": {
          "base_uri": "https://localhost:8080/"
        },
        "id": "KrIlGi34HrUZ",
        "outputId": "f1cdb4e3-1ff4-4756-a87f-3868808096e8"
      },
      "execution_count": 10,
      "outputs": [
        {
          "output_type": "execute_result",
          "data": {
            "text/plain": [
              "TensorShape([2, 80, 120, 32])"
            ]
          },
          "metadata": {},
          "execution_count": 10
        }
      ]
    },
    {
      "cell_type": "code",
      "source": [
        "kernels, biases = conv_layer.get_weights()\n",
        "kernels.shape\n",
        "biases.shape\n",
        ""
      ],
      "metadata": {
        "colab": {
          "base_uri": "https://localhost:8080/"
        },
        "id": "zbHy97loINxN",
        "outputId": "350ccc36-b9d4-4259-9143-9d0a4b7486e7"
      },
      "execution_count": 11,
      "outputs": [
        {
          "output_type": "execute_result",
          "data": {
            "text/plain": [
              "(32,)"
            ]
          },
          "metadata": {},
          "execution_count": 11
        }
      ]
    },
    {
      "cell_type": "code",
      "source": [
        "max_pool = tf.keras.layers.MaxPool2D(pool_size=2)\n",
        "\n",
        "output = max_pool(images)\n",
        "\n",
        "output.shape"
      ],
      "metadata": {
        "colab": {
          "base_uri": "https://localhost:8080/"
        },
        "id": "s6wnc6h7M7XR",
        "outputId": "24678b7b-d5e1-4c2f-ce63-ab4f3886ffcb"
      },
      "execution_count": 12,
      "outputs": [
        {
          "output_type": "execute_result",
          "data": {
            "text/plain": [
              "TensorShape([2, 40, 60, 3])"
            ]
          },
          "metadata": {},
          "execution_count": 12
        }
      ]
    },
    {
      "cell_type": "code",
      "source": [
        "\n",
        "global_avg_pool = tf.keras.layers.GlobalAvgPool2D()\n",
        "global_avg_pool(images)"
      ],
      "metadata": {
        "colab": {
          "base_uri": "https://localhost:8080/"
        },
        "id": "VexoP4lITFVg",
        "outputId": "264f9daf-6b53-46c8-c381-e60993b4b23f"
      },
      "execution_count": 13,
      "outputs": [
        {
          "output_type": "execute_result",
          "data": {
            "text/plain": [
              "<tf.Tensor: shape=(2, 3), dtype=float32, numpy=\n",
              "array([[0.6368122 , 0.595365  , 0.5791015 ],\n",
              "       [0.76797295, 0.26939029, 0.11366344]], dtype=float32)>"
            ]
          },
          "metadata": {},
          "execution_count": 13
        }
      ]
    }
  ]
}