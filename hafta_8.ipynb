{
  "nbformat": 4,
  "nbformat_minor": 0,
  "metadata": {
    "colab": {
      "provenance": [],
      "authorship_tag": "ABX9TyPwFIeESmi13ZHANMsM9j1e",
      "include_colab_link": true
    },
    "kernelspec": {
      "name": "python3",
      "display_name": "Python 3"
    },
    "language_info": {
      "name": "python"
    }
  },
  "cells": [
    {
      "cell_type": "markdown",
      "metadata": {
        "id": "view-in-github",
        "colab_type": "text"
      },
      "source": [
        "<a href=\"https://colab.research.google.com/github/basakozgurr/bedlab_project/blob/main/hafta_8.ipynb\" target=\"_parent\"><img src=\"https://colab.research.google.com/assets/colab-badge.svg\" alt=\"Open In Colab\"/></a>"
      ]
    },
    {
      "cell_type": "code",
      "execution_count": null,
      "metadata": {
        "id": "fhBgGSaWbk-X"
      },
      "outputs": [],
      "source": [
        "# Gerekli kütüphaneleri içe aktar\n",
        "from sklearn.model_selection import train_test_split\n",
        "from sklearn.datasets import load_iris\n",
        "from sklearn.ensemble import RandomForestClassifier\n",
        "from sklearn.metrics import accuracy_score\n",
        "\n",
        "# Veri setini yükle\n",
        "data = load_iris()\n",
        "X, y = data.data, data.target\n",
        "\n",
        "# Verileri eğitim ve test kümelerine ayır\n",
        "X_train, X_test, y_train, y_test = train_test_split(X, y, test_size=0.3, random_state=42)\n",
        "\n",
        "# Modeli oluştur ve eğit\n",
        "model = RandomForestClassifier()\n",
        "model.fit(X_train, y_train)\n",
        "\n",
        "# Modeli test kümesinde doğrula\n",
        "y_pred = model.predict(X_test)\n",
        "doğruluk = accuracy_score(y_test, y_pred)\n",
        "\n",
        "# Sonucu ekrana yazdır\n",
        "print(f\"Hold-Out Doğrulama Yöntemi Doğruluk Puanı: {doğruluk:.4f}\")\n"
      ]
    }
  ]
}